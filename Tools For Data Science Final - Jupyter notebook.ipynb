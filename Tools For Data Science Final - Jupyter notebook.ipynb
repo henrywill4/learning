{
    "cells": [
        {
            "cell_type": "markdown",
            "metadata": {
                "collapsed": true
            },
            "source": "# My Jupyter Notebook on IBM Watson Studio\n    "
        },
        {
            "cell_type": "markdown",
            "metadata": {},
            "source": "**Henry Will IV**\n\nSenior Technical Project Manager"
        },
        {
            "cell_type": "markdown",
            "metadata": {},
            "source": "*I am interested in data science because I would like to learn more about how it works and be able to use it myself*"
        },
        {
            "cell_type": "markdown",
            "metadata": {},
            "source": "### this code is saying hello and calculating 1+1"
        },
        {
            "cell_type": "code",
            "execution_count": 7,
            "metadata": {},
            "outputs": [
                {
                    "name": "stdout",
                    "output_type": "stream",
                    "text": "hello\n"
                },
                {
                    "data": {
                        "text/plain": "2"
                    },
                    "execution_count": 7,
                    "metadata": {},
                    "output_type": "execute_result"
                }
            ],
            "source": "print(\"hello\")\n#calculate a number\n1+1\n\n"
        },
        {
            "cell_type": "markdown",
            "metadata": {},
            "source": "bulleted list:\n- one\n- two \n- three\n- one\n- two \n- three\n\nHorizontal rule\n***\n\n[Henry's Blog](http://henrywill4.blogspot.com/)\n\n"
        }
    ],
    "metadata": {
        "kernelspec": {
            "display_name": "Python 3.7",
            "language": "python",
            "name": "python3"
        },
        "language_info": {
            "codemirror_mode": {
                "name": "ipython",
                "version": 3
            },
            "file_extension": ".py",
            "mimetype": "text/x-python",
            "name": "python",
            "nbconvert_exporter": "python",
            "pygments_lexer": "ipython3",
            "version": "3.7.9"
        }
    },
    "nbformat": 4,
    "nbformat_minor": 1
}